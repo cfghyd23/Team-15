{
 "cells": [
  {
   "cell_type": "code",
   "execution_count": 7,
   "id": "e685d754",
   "metadata": {},
   "outputs": [],
   "source": [
    "# importing the required libraries\n",
    "import json\n",
    "import io\n",
    "import glob\n",
    "import numpy as np\n",
    "from PIL import Image\n",
    "from tensorflow.keras.utils import img_to_array,load_img\n",
    "\n",
    "# Pass the parameter \"pretrained\" as \"True\" to use the pretrained weights:\n",
    "from keras.models import load_model\n",
    "model = load_model(r\"C:\\Users\\nayak\\Code For Good\\Team-15\\Emotion Detection\\Emotion-detection-main\\best_model.h5\")\n",
    "\n",
    "# just to map o/p values \n",
    "op = {0: 'Angry', 1: 'Disgust', 2: 'Fear', 3: 'Happy', 4: 'Neutral', 5: 'Sad'}"
   ]
  },
  {
   "cell_type": "code",
   "execution_count": 9,
   "id": "5ce0ec29",
   "metadata": {},
   "outputs": [
    {
     "name": "stdout",
     "output_type": "stream",
     "text": [
      "1/1 [==============================] - 0s 33ms/step\n",
      " the image is of Happy\n"
     ]
    }
   ],
   "source": [
    "path = r\"C:\\Users\\nayak\\Code For Good\\Team-15\\Emotion Detection\\test\\1.jpg\"\n",
    "img = load_img(path, target_size=(224,224) )\n",
    "\n",
    "i = img_to_array(img)/255\n",
    "input_arr = np.array([i])\n",
    "input_arr.shape\n",
    "\n",
    "pred = np.argmax(model.predict(input_arr))\n",
    "\n",
    "print(f\" the image is of {op[pred]}\")\n",
    "\n",
    "# to display the image  \n",
    "plt.imshow(input_arr[0])\n",
    "plt.title(\"input image\")\n",
    "plt.show()"
   ]
  },
  {
   "cell_type": "code",
   "execution_count": null,
   "id": "67a8844c",
   "metadata": {},
   "outputs": [],
   "source": []
  }
 ],
 "metadata": {
  "kernelspec": {
   "display_name": "Python 3 (ipykernel)",
   "language": "python",
   "name": "python3"
  },
  "language_info": {
   "codemirror_mode": {
    "name": "ipython",
    "version": 3
   },
   "file_extension": ".py",
   "mimetype": "text/x-python",
   "name": "python",
   "nbconvert_exporter": "python",
   "pygments_lexer": "ipython3",
   "version": "3.11.3"
  }
 },
 "nbformat": 4,
 "nbformat_minor": 5
}
