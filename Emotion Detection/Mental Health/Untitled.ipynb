{
 "cells": [
  {
   "cell_type": "code",
   "execution_count": 3,
   "id": "49c44371",
   "metadata": {},
   "outputs": [],
   "source": [
    "from textblob import TextBlob"
   ]
  },
  {
   "cell_type": "code",
   "execution_count": 10,
   "id": "9f0402b9",
   "metadata": {},
   "outputs": [
    {
     "name": "stdout",
     "output_type": "stream",
     "text": [
      "Sentiment(polarity=-0.09999999999999998, subjectivity=0.7)\n",
      "Sentiment(polarity=-0.15, subjectivity=0.21666666666666667)\n"
     ]
    }
   ],
   "source": [
    "Feedback1=\"I am feeling lonely\"\n",
    "Feedback2=\"I am feeling quite low for the past few days\"\n",
    "blob1=TextBlob(Feedback1)\n",
    "blob2=TextBlob(Feedback2)\n",
    "print(blob1.sentiment)\n",
    "print(blob2.sentiment)"
   ]
  },
  {
   "cell_type": "code",
   "execution_count": null,
   "id": "f4fee098",
   "metadata": {},
   "outputs": [],
   "source": []
  }
 ],
 "metadata": {
  "kernelspec": {
   "display_name": "Python 3 (ipykernel)",
   "language": "python",
   "name": "python3"
  },
  "language_info": {
   "codemirror_mode": {
    "name": "ipython",
    "version": 3
   },
   "file_extension": ".py",
   "mimetype": "text/x-python",
   "name": "python",
   "nbconvert_exporter": "python",
   "pygments_lexer": "ipython3",
   "version": "3.11.3"
  }
 },
 "nbformat": 4,
 "nbformat_minor": 5
}
